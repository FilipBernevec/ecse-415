{
 "cells": [
  {
   "cell_type": "code",
   "execution_count": 1,
   "metadata": {},
   "outputs": [
    {
     "name": "stdout",
     "output_type": "stream",
     "text": [
      "29.818882031582135\n"
     ]
    }
   ],
   "source": [
    "#1)Filter the noisy image using a 7x7 Gaussian filter with variance equals to 2.\n",
    "import numpy as np\n",
    "import cv2\n",
    "import skimage\n",
    "from skimage import measure\n",
    "\n",
    "img_clean = cv2.imread('C:/Users/Filip/Google Drive/McGillSchool/Semester 7/ECSE 415/Assignments/Assignment1/peppers.png')\n",
    "g_img = cv2.imread('C:/Users/Filip/Google Drive/McGillSchool/Semester 7/ECSE 415/Assignments/Assignment1/gaussian_noise_peppers.png')\n",
    "gfg_img = cv2.GaussianBlur(g_img,(7,7),0)\n",
    "value1 = skimage.measure.compare_psnr(img_clean,gfg_img)\n",
    "print(value1)\n",
    "\n",
    "cv2.imshow('noise',g_img)\n",
    "cv2.imshow('denoised gaussian',gfg_img)\n",
    "cv2.waitKey(0)\n",
    "cv2.destroyAllWindows()"
   ]
  },
  {
   "cell_type": "code",
   "execution_count": null,
   "metadata": {},
   "outputs": [],
   "source": [
    "#2)Filter the noisy image using a box filter of the same size.\n",
    "box = np.ones((7,7), np.float32)/(7*7)\n",
    "bfg_img = cv2.filter2D(g_img, -1, box)\n",
    "value2 = skimage.measure.compare_psnr(img_clean,bfg_img)\n",
    "print(value2)\n",
    "\n",
    "cv2.imshow('noise',g_img)\n",
    "cv2.imshow('denoised box',bfg_img)\n",
    "cv2.waitKey(0)\n",
    "cv2.destroyAllWindows()"
   ]
  },
  {
   "cell_type": "markdown",
   "metadata": {},
   "source": [
    "3)Compare the PSNR of both of the denoised images to that of the clean image and state which method gives the superior result.\n",
    "\n",
    "PSNR of Gaussian filter: 29.818882031582135\n",
    "PSNR of box filter: 28.278396476904042\n",
    "\n",
    "The Gaussian filter gives a higher PSNR.\n"
   ]
  },
  {
   "cell_type": "code",
   "execution_count": 6,
   "metadata": {},
   "outputs": [
    {
     "name": "stdout",
     "output_type": "stream",
     "text": [
      "28.229831498788265\n"
     ]
    }
   ],
   "source": [
    "#4)Filter the noisy image using the same Gaussian filter as used in the previous question.\n",
    "sp_img = cv2.imread('C:/Users/Filip/Google Drive/McGillSchool/Semester 7/ECSE 415/Assignments/Assignment1/saltandpepper_noise_peppers.png')\n",
    "gfsp_img = cv2.GaussianBlur(sp_img,(7,7),0)\n",
    "value3 = skimage.measure.compare_psnr(img_clean,gfsp_img)\n",
    "print(value3)\n",
    "\n",
    "cv2.imshow('salt pepper',sp_img)\n",
    "cv2.imshow('denoised gaussian',gfsp_img)\n",
    "cv2.waitKey(0)\n",
    "cv2.destroyAllWindows()"
   ]
  },
  {
   "cell_type": "code",
   "execution_count": 7,
   "metadata": {},
   "outputs": [
    {
     "name": "stdout",
     "output_type": "stream",
     "text": [
      "31.871009920638333\n"
     ]
    }
   ],
   "source": [
    "#5)Filter the noisy image using a median filter of the same size.\n",
    "mfsp_img = cv2.medianBlur(sp_img,7)\n",
    "value4 = skimage.measure.compare_psnr(img_clean,mfsp_img)\n",
    "print(value4)\n",
    "\n",
    "cv2.imshow('salt pepper',sp_img)\n",
    "cv2.imshow('denoised median',mfsp_img)\n",
    "cv2.waitKey(0)\n",
    "cv2.destroyAllWindows()"
   ]
  },
  {
   "cell_type": "markdown",
   "metadata": {},
   "source": [
    "6)Compare the PSNR of both of the denoised images to that of the clean image and state which gives a better result.\n",
    "\n",
    "PSNR of Gaussian filter: 28.229831498788265\n",
    "PSNR of median filter: 31.871009920638333\n",
    "\n",
    "The median filter gives a higher PSNR."
   ]
  }
 ],
 "metadata": {
  "kernelspec": {
   "display_name": "Python [conda env:myWindowsCV]",
   "language": "python",
   "name": "conda-env-myWindowsCV-py"
  },
  "language_info": {
   "codemirror_mode": {
    "name": "ipython",
    "version": 3
   },
   "file_extension": ".py",
   "mimetype": "text/x-python",
   "name": "python",
   "nbconvert_exporter": "python",
   "pygments_lexer": "ipython3",
   "version": "3.5.6"
  }
 },
 "nbformat": 4,
 "nbformat_minor": 2
}
