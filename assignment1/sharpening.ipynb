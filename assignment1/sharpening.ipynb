{
 "cells": [
  {
   "cell_type": "code",
   "execution_count": 11,
   "metadata": {},
   "outputs": [
    {
     "name": "stderr",
     "output_type": "stream",
     "text": [
      "C:\\Users\\Filip\\Anaconda3\\envs\\myWindowsCV\\lib\\site-packages\\ipykernel\\__main__.py:19: RuntimeWarning: overflow encountered in ubyte_scalars\n",
      "C:\\Users\\Filip\\Anaconda3\\envs\\myWindowsCV\\lib\\site-packages\\ipykernel\\__main__.py:24: RuntimeWarning: overflow encountered in ubyte_scalars\n",
      "C:\\Users\\Filip\\Anaconda3\\envs\\myWindowsCV\\lib\\site-packages\\ipykernel\\__main__.py:29: RuntimeWarning: overflow encountered in ubyte_scalars\n",
      "C:\\Users\\Filip\\Anaconda3\\envs\\myWindowsCV\\lib\\site-packages\\ipykernel\\__main__.py:34: RuntimeWarning: overflow encountered in ubyte_scalars\n"
     ]
    }
   ],
   "source": [
    "#1.1)Sharpen the given image 'rice'.\n",
    "import numpy as np\n",
    "import cv2\n",
    "\n",
    "org_img = cv2.imread('C:/Users/Filip/Google Drive/McGillSchool/Semester 7/ECSE 415/Assignments/Assignment1/rice.png')\n",
    "box = np.ones((5,5),np.float32)/(5*5)\n",
    "bf_img = cv2.filter2D(org_img, -1, box)\n",
    "gf_img = cv2.GaussianBlur(org_img,(5,5),0)\n",
    "det1_img = org_img.copy()\n",
    "det2_img = org_img.copy()\n",
    "sharp1_img = org_img.copy()\n",
    "sharp2_img = org_img.copy()\n",
    "\n",
    "height, width, depth = org_img.shape\n",
    "\n",
    "for row in range(0, height):\n",
    "    for col in range(0, width):\n",
    "        for ch in range(0, depth):\n",
    "            det1_img[row,col,ch] = org_img[row,col,ch] - bf_img[row,col,ch]\n",
    "\n",
    "for row in range(0, height):\n",
    "    for col in range(0, width):\n",
    "        for ch in range(0, depth):\n",
    "            sharp1_img[row,col,ch] = org_img[row,col,ch] + det1_img[row,col,ch]\n",
    "            \n",
    "for row in range(0, height):\n",
    "    for col in range(0, width):\n",
    "        for ch in range(0, depth):\n",
    "            det2_img[row,col,ch] = org_img[row,col,ch] - gf_img[row,col,ch]\n",
    "\n",
    "for row in range(0, height):\n",
    "    for col in range(0, width):\n",
    "        for ch in range(0, depth):\n",
    "            sharp2_img[row,col,ch] = org_img[row,col,ch] + det2_img[row,col,ch]\n",
    "cv2.imshow('original',org_img)\n",
    "cv2.imshow('box filter',bf_img)\n",
    "cv2.imshow('faussian filter',gf_img)\n",
    "cv2.imshow('sharpened1',sharp1_img)\n",
    "cv2.imshow('sharpened2',sharp2_img)\n",
    "cv2.waitKey(0)\n",
    "cv2.destroyAllWindows()"
   ]
  },
  {
   "cell_type": "markdown",
   "metadata": {},
   "source": [
    "2)Which of the two methods is expected to give better results and why? Can you observe expected results?\n",
    "\n",
    "\n"
   ]
  },
  {
   "cell_type": "code",
   "execution_count": null,
   "metadata": {},
   "outputs": [],
   "source": []
  }
 ],
 "metadata": {
  "kernelspec": {
   "display_name": "Python [conda env:myWindowsCV]",
   "language": "python",
   "name": "conda-env-myWindowsCV-py"
  },
  "language_info": {
   "codemirror_mode": {
    "name": "ipython",
    "version": 3
   },
   "file_extension": ".py",
   "mimetype": "text/x-python",
   "name": "python",
   "nbconvert_exporter": "python",
   "pygments_lexer": "ipython3",
   "version": "3.5.6"
  }
 },
 "nbformat": 4,
 "nbformat_minor": 2
}
