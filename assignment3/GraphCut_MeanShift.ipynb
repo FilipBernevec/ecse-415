{
 "cells": [
  {
   "cell_type": "markdown",
   "metadata": {},
   "source": [
    "#### 1) Segment the given image using normlized graph-cuts. Vary the following parameters: compactness and n_segments(slic function), thresh(cut_normalized function). Display segmentation results for several parameters and state their effect on the output. "
   ]
  },
  {
   "cell_type": "code",
   "execution_count": null,
   "metadata": {},
   "outputs": [],
   "source": []
  },
  {
   "cell_type": "markdown",
   "metadata": {},
   "source": [
    "*Effect of compactness*\n",
    "\n",
    "*Effect of n_segments*\n",
    "\n",
    "*Effect of thresh*\n"
   ]
  },
  {
   "cell_type": "markdown",
   "metadata": {},
   "source": [
    "#### 2) Segment the given image using mean-shift. Vary the following parameters: ratio, kernel_size, max_dist. Display segmentation results for several parameters and state their effect on the output. "
   ]
  },
  {
   "cell_type": "code",
   "execution_count": null,
   "metadata": {},
   "outputs": [],
   "source": []
  },
  {
   "cell_type": "markdown",
   "metadata": {},
   "source": [
    "*Effect of ratio*\n",
    "\n",
    "*Effect of kernel_size*\n",
    "\n",
    "*Effect of max_dist*"
   ]
  }
 ],
 "metadata": {
  "kernelspec": {
   "display_name": "Python [conda env:myWindowsCV]",
   "language": "python",
   "name": "conda-env-myWindowsCV-py"
  },
  "language_info": {
   "codemirror_mode": {
    "name": "ipython",
    "version": 3
   },
   "file_extension": ".py",
   "mimetype": "text/x-python",
   "name": "python",
   "nbconvert_exporter": "python",
   "pygments_lexer": "ipython3",
   "version": "3.5.6"
  }
 },
 "nbformat": 4,
 "nbformat_minor": 2
}
