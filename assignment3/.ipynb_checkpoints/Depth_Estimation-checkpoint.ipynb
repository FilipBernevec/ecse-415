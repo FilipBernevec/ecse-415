{
 "cells": [
  {
   "cell_type": "markdown",
   "metadata": {},
   "source": [
    "## CODING QUESTIONS"
   ]
  },
  {
   "cell_type": "markdown",
   "metadata": {},
   "source": [
    "#### 1) Estimate depth using the setero image pair. Show the results of varying the following parameters: blockSize [5,9,15], numDisparities [12,32,48]. You will have a totoal of 9 depth-maps, each corresponding to one combination of blockSize and numDisparities. "
   ]
  },
  {
   "cell_type": "code",
   "execution_count": null,
   "metadata": {},
   "outputs": [],
   "source": [
    "import sys\n",
    "import cv2\n",
    "import matplotlib.pylot as plt\n",
    "import re\n",
    "from struct import *\n",
    "import numpy as np\n",
    "from matplotlib import pyplot as plt\n",
    "\n",
    "\n",
    "def read_pfm(file):\n",
    "    # Adopted from https://stackoverflow.com/questions/37073108/how-to-read-pfm-files-provided-with-middlebury-dataset?rq=1\n",
    "    with open(file, \"rb\") as f:\n",
    "        # Line 1: PF=>RGB (3 channels), Pf=>Greyscale (1 channel)\n",
    "        type = f.readline().decode('latin-1')\n",
    "        if \"PF\" in type:\n",
    "            channels = 3\n",
    "        elif \"Pf\" in type:\n",
    "            channels = 1\n",
    "        else:\n",
    "            sys.exit(1)\n",
    "        # Line 2: width height\n",
    "        line = f.readline().decode('latin-1')\n",
    "        width, height = re.findall('\\d+', line)\n",
    "        width = int(width)\n",
    "        height = int(height)\n",
    "\n",
    "        # Line 3: +ve number means big endian, negative means little endian\n",
    "        line = f.readline().decode('latin-1')\n",
    "        BigEndian = True\n",
    "        if \"-\" in line:\n",
    "            BigEndian = False\n",
    "        # Slurp all binary data\n",
    "        samples = width * height * channels;\n",
    "        buffer = f.read(samples * 4)\n",
    "        # Unpack floats with appropriate endianness\n",
    "        if BigEndian:\n",
    "            fmt = \">\"\n",
    "        else:\n",
    "            fmt = \"<\"\n",
    "        fmt = fmt + str(samples) + \"f\"\n",
    "        img = unpack(fmt, buffer)\n",
    "        img = np.flipud(np.array(img).reshape(height, width))\n",
    "    return img\n"
   ]
  },
  {
   "cell_type": "markdown",
   "metadata": {},
   "source": [
    "#### 2) For each depth-map, compute the pixel-wise squared difference error with respect to the ground-truth."
   ]
  },
  {
   "cell_type": "code",
   "execution_count": null,
   "metadata": {},
   "outputs": [],
   "source": []
  },
  {
   "cell_type": "markdown",
   "metadata": {},
   "source": [
    "## REASONING QUESTIONS"
   ]
  },
  {
   "cell_type": "markdown",
   "metadata": {},
   "source": [
    "#### 3) Comment on error-maps for each combination of parameters. Specifically, mention the effects of varying the parameters on the error in the region of high/low texture, edge, large/small depths. "
   ]
  }
 ],
 "metadata": {
  "kernelspec": {
   "display_name": "Python [conda env:myWindowsCV]",
   "language": "python",
   "name": "conda-env-myWindowsCV-py"
  },
  "language_info": {
   "codemirror_mode": {
    "name": "ipython",
    "version": 3
   },
   "file_extension": ".py",
   "mimetype": "text/x-python",
   "name": "python",
   "nbconvert_exporter": "python",
   "pygments_lexer": "ipython3",
   "version": "3.5.6"
  }
 },
 "nbformat": 4,
 "nbformat_minor": 2
}
